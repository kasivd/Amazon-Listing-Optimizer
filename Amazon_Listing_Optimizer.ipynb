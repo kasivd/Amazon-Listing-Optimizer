{
  "nbformat": 4,
  "nbformat_minor": 0,
  "metadata": {
    "colab": {
      "provenance": [],
      "gpuType": "T4"
    },
    "kernelspec": {
      "name": "python3",
      "display_name": "Python 3"
    },
    "language_info": {
      "name": "python"
    },
    "accelerator": "GPU"
  },
  "cells": [
    {
      "cell_type": "code",
      "source": [
        "import csv\n",
        "\n",
        "# Mock dataset (unchanged)\n",
        "sample_data = [\n",
        "    {\"Campaign_ID\": \"C001\", \"Segment\": \"Electronics\", \"Clicks\": 250, \"Conversions\": 30},\n",
        "    {\"Campaign_ID\": \"C002\", \"Segment\": \"Electronics\", \"Clicks\": 180, \"Conversions\": 22},\n",
        "    {\"Campaign_ID\": \"C003\", \"Segment\": \"Fitness\", \"Clicks\": 140, \"Conversions\": 18},\n",
        "    {\"Campaign_ID\": \"C004\", \"Segment\": \"Fashion\", \"Clicks\": 100, \"Conversions\": 12},\n",
        "    {\"Campaign_ID\": \"C005\", \"Segment\": \"Electronics\", \"Clicks\": 90, \"Conversions\": 10},\n",
        "    {\"Campaign_ID\": \"C006\", \"Segment\": \"Fitness\", \"Clicks\": 70, \"Conversions\": 8}\n",
        "]\n",
        "\n",
        "# Keyword mapping (unchanged)\n",
        "keyword_map = {\n",
        "    \"Electronics\": [\"samsung galaxy watch\", \"apple iphone charger\", \"samsung wireless earbuds\"],\n",
        "    \"Fitness\": [\"nike running shoes\", \"fitbit fitness tracker\"],\n",
        "    \"Fashion\": [\"adidas sneakers\", \"levis denim jacket\"]\n",
        "}\n",
        "\n",
        "# Helper function (unchanged)\n",
        "def is_compatible_keyword(title_keyword, desc_keyword):\n",
        "    brands = [\"samsung\", \"apple\", \"sony\", \"nike\", \"fitbit\", \"adidas\", \"levis\"]\n",
        "    title_brand = next((b for b in brands if b in title_keyword.lower()), None)\n",
        "    desc_brand = next((b for b in brands if b in desc_keyword.lower()), None)\n",
        "    return not title_brand or (desc_brand == title_brand or not desc_brand)\n",
        "\n",
        "# Solution 1: Keyword Extraction & Lemmatization (Unchanged)\n",
        "def solution1_extract_reorder(data):\n",
        "    ranked_keywords = []\n",
        "    for item in data:\n",
        "        segment = item[\"Segment\"]\n",
        "        keyword_idx = {\"C001\": 0, \"C002\": 1, \"C005\": 2}.get(item[\"Campaign_ID\"], 0)\n",
        "        keyword = keyword_map[segment][min(keyword_idx, len(keyword_map[segment])-1)]\n",
        "        score = item[\"Clicks\"] * 0.7 + item[\"Conversions\"] * 0.3\n",
        "        lemma = keyword.replace(\"shoes\", \"shoe\")\n",
        "        ranked_keywords.append((lemma, score, segment))\n",
        "    ranked_keywords.sort(key=lambda x: x[1], reverse=True)\n",
        "\n",
        "    top_keyword, _, top_segment = ranked_keywords[0]\n",
        "    title = top_keyword.title()\n",
        "    segment_keywords = [kw[0] for kw in ranked_keywords if kw[2] == top_segment and kw[0] != top_keyword]\n",
        "    compatible_keywords = [kw for kw in segment_keywords if is_compatible_keyword(top_keyword, kw)]\n",
        "    if not compatible_keywords:\n",
        "        compatible_keywords = [\"accessories\"]\n",
        "\n",
        "    description = f\"Enjoy seamless pairing with our premium {compatible_keywords[0]} for top performance and style.\"\n",
        "    return {\"title\": title, \"description\": description.strip()}\n",
        "\n",
        "# Solution 2: NER-Enhanced (Updated)\n",
        "def solution2_ner_enhanced(data):\n",
        "    ranked_keywords = []\n",
        "    brand_terms = [\"samsung\", \"apple\", \"sony\", \"nike\", \"fitbit\", \"adidas\", \"levis\"]\n",
        "    for item in data:\n",
        "        segment = item[\"Segment\"]\n",
        "        keyword_idx = {\"C001\": 0, \"C002\": 1, \"C005\": 2}.get(item[\"Campaign_ID\"], 0)\n",
        "        keyword = keyword_map[segment][min(keyword_idx, len(keyword_map[segment])-1)]\n",
        "        score = item[\"Clicks\"] * 0.7 + item[\"Conversions\"] * 0.3\n",
        "        lemma = keyword.replace(\"shoes\", \"shoe\")\n",
        "        # Increased NER boost to 1.5x\n",
        "        final_score = score * 1.5 if any(b in lemma for b in brand_terms) else score\n",
        "        ranked_keywords.append((lemma, final_score, segment))\n",
        "    ranked_keywords.sort(key=lambda x: x[1], reverse=True)\n",
        "\n",
        "    top_keyword, _, top_segment = ranked_keywords[0]\n",
        "    title = top_keyword.title()\n",
        "    segment_keywords = [kw[0] for kw in ranked_keywords if kw[2] == top_segment and kw[0] != top_keyword]\n",
        "    compatible_keywords = [kw for kw in segment_keywords if is_compatible_keyword(top_keyword, kw)]\n",
        "    if not compatible_keywords:\n",
        "        compatible_keywords = [\"accessories\"]\n",
        "\n",
        "    # Updated description to highlight NER boost\n",
        "    description = f\"Optimized for use with our premium {compatible_keywords[0]} thanks to advanced recognition technology.\"\n",
        "    return {\"title\": title, \"description\": description.strip()}\n",
        "\n",
        "# Execute both solutions\n",
        "output1 = solution1_extract_reorder(sample_data)\n",
        "output2 = solution2_ner_enhanced(sample_data)\n",
        "\n",
        "# Save to CSV\n",
        "with open(\"optimized_listing.csv\", \"w\", newline=\"\") as f:\n",
        "    writer = csv.writer(f)\n",
        "    writer.writerow([\"Solution\", \"Title\", \"Description\"])\n",
        "    writer.writerow([\"Keyword + Lemmatization\", output1[\"title\"], output1[\"description\"]])\n",
        "    writer.writerow([\"NER Enhanced\", output2[\"title\"], output2[\"description\"]])\n",
        "\n",
        "# Display results\n",
        "print(\"Solution 1 (Keyword + Lemmatization):\")\n",
        "print(f\"  Title: {output1['title']}\")\n",
        "print(f\"  Description: {output1['description']}\")\n",
        "print(\"\\nSolution 2 (NER Enhanced):\")\n",
        "print(f\"  Title: {output2['title']}\")\n",
        "print(f\"  Description: {output2['description']}\")"
      ],
      "metadata": {
        "id": "mUFmuDOptG1p",
        "colab": {
          "base_uri": "https://localhost:8080/"
        },
        "outputId": "6a18bc98-3a80-4342-dd5a-a36a5e6abaef"
      },
      "execution_count": 13,
      "outputs": [
        {
          "output_type": "stream",
          "name": "stdout",
          "text": [
            "Solution 1 (Keyword + Lemmatization):\n",
            "  Title: Samsung Galaxy Watch\n",
            "  Description: Enjoy seamless pairing with our premium samsung wireless earbuds for top performance and style.\n",
            "\n",
            "Solution 2 (NER Enhanced):\n",
            "  Title: Samsung Galaxy Watch\n",
            "  Description: Optimized for use with our premium samsung wireless earbuds thanks to advanced recognition technology.\n"
          ]
        }
      ]
    },
    {
      "cell_type": "code",
      "source": [],
      "metadata": {
        "id": "VtGFsIhSFliS"
      },
      "execution_count": null,
      "outputs": []
    }
  ]
}